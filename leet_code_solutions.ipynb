{
 "cells": [
  {
   "cell_type": "code",
   "execution_count": null,
   "id": "98a10308-53e3-4745-8288-c5b7156ca97f",
   "metadata": {
    "jupyter": {
     "source_hidden": true
    },
    "tags": []
   },
   "outputs": [],
   "source": []
  },
  {
   "cell_type": "markdown",
   "id": "93835620-de92-476b-bdf7-38e07104f61e",
   "metadata": {},
   "source": [
    "#### <u>**codewars: Run-length encoding**<u>\n",
    "**input:** run_length_encoding('Hello World') <br />\n",
    "**output:** [[1,'h'], [1,'e'], [2,'l'], [1,'o'], [1,' '], [1,'w'], [1,'o'], [1,'r'], [1,'l'], [1,'d'], [1,'!']]"
   ]
  },
  {
   "cell_type": "code",
   "execution_count": 231,
   "id": "92edc421-e018-4ea4-80cd-2428d5ef8e1c",
   "metadata": {},
   "outputs": [
    {
     "data": {
      "text/plain": [
       "[[1, 'a'], [1, 'b'], [1, 'c']]"
      ]
     },
     "execution_count": 231,
     "metadata": {},
     "output_type": "execute_result"
    }
   ],
   "source": [
    "def run_length_encoding(s):\n",
    "    s += '*'         #added character to string to increase lenghth and capture last letter.\n",
    "    output = []\n",
    "    count = 1\n",
    "    \n",
    "    for i in range(1, len(s)):\n",
    "        if s[i-1] != s[i]:\n",
    "            output.append([count, s[i-1]])\n",
    "            count = 1\n",
    "        else:\n",
    "            count += 1\n",
    "\n",
    "    return output\n",
    "   \n",
    "run_length_encoding('abc')"
   ]
  },
  {
   "cell_type": "markdown",
   "id": "e5a2e621-8ea7-455a-a087-7c483854250d",
   "metadata": {},
   "source": [
    "#### <u>**HackerRank: Python basic question 1**<u>\n",
    "**input:** missingCharacters('7985interdiciplinary12') <br />\n",
    "**output:** '0346bfghjkmoqsuvwxz' <br />\n",
    "**note:** return the numbers and letters missing from input sorted in order starting with numbers followed by letters"
   ]
  },
  {
   "cell_type": "code",
   "execution_count": 233,
   "id": "8655e815-1342-42f6-9824-9528668aeadd",
   "metadata": {},
   "outputs": [
    {
     "data": {
      "text/plain": [
       "'0346bfghjkmoqsuvwxz'"
      ]
     },
     "execution_count": 233,
     "metadata": {},
     "output_type": "execute_result"
    }
   ],
   "source": [
    "def missingCharacters(s):\n",
    "    varchar = ['a', 'b', 'c', 'd', 'e', 'f', 'g', 'h', 'i', 'j', 'k', 'l', 'm', 'n', 'o', 'p', 'q', 'r', 's', 't', 'u', 'v', 'w', 'x', 'y', 'z', '0', '1','2','3','4','5','6','7','8','9']\n",
    "    string = s\n",
    "    #numbers = [0,1,2,3,4,5,6,7,8,9]\n",
    "    list = \"\"\n",
    "       \n",
    "    for l in varchar:\n",
    "        if l not in string:\n",
    "            list += l\n",
    "    \n",
    "    x = sorted(list)\n",
    "    \n",
    "    return \"\".join(x)\n",
    "\n",
    "\n",
    "missingCharacters('7985interdiciplinary12') \n"
   ]
  },
  {
   "cell_type": "code",
   "execution_count": null,
   "id": "99f47919-ac73-451f-8014-ca7b00922bb4",
   "metadata": {},
   "outputs": [],
   "source": []
  }
 ],
 "metadata": {
  "kernelspec": {
   "display_name": "Python 3 (ipykernel)",
   "language": "python",
   "name": "python3"
  },
  "language_info": {
   "codemirror_mode": {
    "name": "ipython",
    "version": 3
   },
   "file_extension": ".py",
   "mimetype": "text/x-python",
   "name": "python",
   "nbconvert_exporter": "python",
   "pygments_lexer": "ipython3",
   "version": "3.9.13"
  }
 },
 "nbformat": 4,
 "nbformat_minor": 5
}
